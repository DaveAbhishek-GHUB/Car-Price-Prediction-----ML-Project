df = pd.read_csv('Data/CarPrice_Assignment.csv')
pd.set_option('display.max_columns', None)
df.head()





df.info()


df.isnull().sum()


df.describe()


# Find Relation Between the Data
plt.figure(figsize=(10, 6))
sns.heatmap(df.corr(numeric_only=True), annot=True)
plt.tight_layout()
plt.show()


def plotting(var, num):
    plt.subplot(2,2,num)
    sns.histplot(df[var], kde=True)

plotting('carwidth', 1)
plotting('carlength', 2)
plotting('wheelbase', 3)
plotting('curbweight', 4)

plt.tight_layout()


def plotting_categorical(var, num):
    plt.subplot(2, 2, num)
    sns.boxplot(data=df, x=var, y='price')
    plt.title(f'price VS {var}')

plotting_categorical('fueltype', 1)

plotting_categorical('enginelocation', 2)

plotting_categorical('carbody', 3)
plt.xticks(rotation=30)

plotting_categorical('drivewheel', 4)

plt.tight_layout()





# Drop some extra columns
columns = ['car_ID', 'CarName','symboling', 'doornumber', 'peakrpm', 'citympg', 'highwaympg', 'stroke','compressionratio']
df_cleaned = df.drop(columns=columns)


df_cleaned.head()





# Convert 'cylindernumber' from text to integer
cylinder_map = {
    'two': 2, 'three': 3, 'four': 4, 'five': 5,
    'six': 6, 'eight': 8, 'twelve': 12
}
df_cleaned['cylindernumber'] = df_cleaned['cylindernumber'].str.strip().str.lower().map(cylinder_map)
df_cleaned['cylindernumber'].fillna(df_cleaned['cylindernumber'].mode()[0], inplace=True)
df_cleaned['cylindernumber'] = df_cleaned['cylindernumber'].astype(int)


# Label encode binary columns
binary_cols = ['fueltype', 'aspiration', 'enginelocation']
for col in binary_cols:
    df_cleaned[col] = LabelEncoder().fit_transform(df_cleaned[col])


# One-hot encode moderate-category columns
df_cleaned = pd.get_dummies(df_cleaned, columns=['carbody', 'drivewheel', 'enginetype'], drop_first=True)


# Group rare 'fuelsystem' values and label encode
rare_fuels = ['spdi', '4bbl', 'mfi', 'spfi']
df_cleaned['fuelsystem'] = df_cleaned['fuelsystem'].str.strip().str.lower().replace({k: 'other' for k in rare_fuels})
df_cleaned['fuelsystem'] = LabelEncoder().fit_transform(df_cleaned['fuelsystem'])


df_cleaned.head()


df_cleaned = df_cleaned.astype(int)


df_cleaned.head()


X= df_cleaned.drop(columns=['price'])
y= df['price']


# Standard Scalling
scale_cols = ['wheelbase', 'carlength', 'carwidth', 'carheight', 'enginesize', 'horsepower']

scaler = StandardScaler()
X[scale_cols] = scaler.fit_transform(X[scale_cols])


# Train test split
X_train, X_test, y_train, y_test = train_test_split(X, y, test_size=0.2, random_state=42)





model = LinearRegression()
model.fit(X_train, y_train)





y_pred = model.predict(X_test)


r2 = r2_score(y_test, y_pred)


r2
